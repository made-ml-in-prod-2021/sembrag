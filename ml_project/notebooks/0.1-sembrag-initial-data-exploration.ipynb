{
  "cells":[
    {
      "cell_type":"code",
      "source":[
        "import numpy as np\n",
        "import pandas as pd\n",
        "pd.plotting.register_matplotlib_converters()\n",
        "import matplotlib.pyplot as plt\n",
        "%matplotlib inline\n",
        "import seaborn as sns\n",
        "print(\"Setup Complete\")"
      ],
      "execution_count":9,
      "outputs":[
        {
          "name":"stdout",
          "text":[
            "Setup Complete\n"
          ],
          "output_type":"stream"
        }
      ],
      "metadata":{
        
      }
    },
    {
      "cell_type":"markdown",
      "source":[
        "# Read data"
      ],
      "metadata":{
        
      }
    },
    {
      "cell_type":"code",
      "source":[
        "df = pd.read_csv('heart.csv')"
      ],
      "execution_count":2,
      "outputs":[
        
      ],
      "metadata":{
        
      }
    },
    {
      "cell_type":"code",
      "source":[
        "df.head()"
      ],
      "execution_count":3,
      "outputs":[
        {
          "data":{
            "text\/html":[
              "<div>\n",
              "<style scoped>\n",
              "    .dataframe tbody tr th:only-of-type {\n",
              "        vertical-align: middle;\n",
              "    }\n",
              "\n",
              "    .dataframe tbody tr th {\n",
              "        vertical-align: top;\n",
              "    }\n",
              "\n",
              "    .dataframe thead th {\n",
              "        text-align: right;\n",
              "    }\n",
              "<\/style>\n",
              "<table border=\"1\" class=\"dataframe\">\n",
              "  <thead>\n",
              "    <tr style=\"text-align: right;\">\n",
              "      <th><\/th>\n",
              "      <th>age<\/th>\n",
              "      <th>sex<\/th>\n",
              "      <th>cp<\/th>\n",
              "      <th>trestbps<\/th>\n",
              "      <th>chol<\/th>\n",
              "      <th>fbs<\/th>\n",
              "      <th>restecg<\/th>\n",
              "      <th>thalach<\/th>\n",
              "      <th>exang<\/th>\n",
              "      <th>oldpeak<\/th>\n",
              "      <th>slope<\/th>\n",
              "      <th>ca<\/th>\n",
              "      <th>thal<\/th>\n",
              "      <th>target<\/th>\n",
              "    <\/tr>\n",
              "  <\/thead>\n",
              "  <tbody>\n",
              "    <tr>\n",
              "      <th>0<\/th>\n",
              "      <td>63<\/td>\n",
              "      <td>1<\/td>\n",
              "      <td>3<\/td>\n",
              "      <td>145<\/td>\n",
              "      <td>233<\/td>\n",
              "      <td>1<\/td>\n",
              "      <td>0<\/td>\n",
              "      <td>150<\/td>\n",
              "      <td>0<\/td>\n",
              "      <td>2.3<\/td>\n",
              "      <td>0<\/td>\n",
              "      <td>0<\/td>\n",
              "      <td>1<\/td>\n",
              "      <td>1<\/td>\n",
              "    <\/tr>\n",
              "    <tr>\n",
              "      <th>1<\/th>\n",
              "      <td>37<\/td>\n",
              "      <td>1<\/td>\n",
              "      <td>2<\/td>\n",
              "      <td>130<\/td>\n",
              "      <td>250<\/td>\n",
              "      <td>0<\/td>\n",
              "      <td>1<\/td>\n",
              "      <td>187<\/td>\n",
              "      <td>0<\/td>\n",
              "      <td>3.5<\/td>\n",
              "      <td>0<\/td>\n",
              "      <td>0<\/td>\n",
              "      <td>2<\/td>\n",
              "      <td>1<\/td>\n",
              "    <\/tr>\n",
              "    <tr>\n",
              "      <th>2<\/th>\n",
              "      <td>41<\/td>\n",
              "      <td>0<\/td>\n",
              "      <td>1<\/td>\n",
              "      <td>130<\/td>\n",
              "      <td>204<\/td>\n",
              "      <td>0<\/td>\n",
              "      <td>0<\/td>\n",
              "      <td>172<\/td>\n",
              "      <td>0<\/td>\n",
              "      <td>1.4<\/td>\n",
              "      <td>2<\/td>\n",
              "      <td>0<\/td>\n",
              "      <td>2<\/td>\n",
              "      <td>1<\/td>\n",
              "    <\/tr>\n",
              "    <tr>\n",
              "      <th>3<\/th>\n",
              "      <td>56<\/td>\n",
              "      <td>1<\/td>\n",
              "      <td>1<\/td>\n",
              "      <td>120<\/td>\n",
              "      <td>236<\/td>\n",
              "      <td>0<\/td>\n",
              "      <td>1<\/td>\n",
              "      <td>178<\/td>\n",
              "      <td>0<\/td>\n",
              "      <td>0.8<\/td>\n",
              "      <td>2<\/td>\n",
              "      <td>0<\/td>\n",
              "      <td>2<\/td>\n",
              "      <td>1<\/td>\n",
              "    <\/tr>\n",
              "    <tr>\n",
              "      <th>4<\/th>\n",
              "      <td>57<\/td>\n",
              "      <td>0<\/td>\n",
              "      <td>0<\/td>\n",
              "      <td>120<\/td>\n",
              "      <td>354<\/td>\n",
              "      <td>0<\/td>\n",
              "      <td>1<\/td>\n",
              "      <td>163<\/td>\n",
              "      <td>1<\/td>\n",
              "      <td>0.6<\/td>\n",
              "      <td>2<\/td>\n",
              "      <td>0<\/td>\n",
              "      <td>2<\/td>\n",
              "      <td>1<\/td>\n",
              "    <\/tr>\n",
              "  <\/tbody>\n",
              "<\/table>\n",
              "<\/div>"
            ]
          },
          "metadata":{
            
          },
          "output_type":"display_data"
        }
      ],
      "metadata":{
        
      }
    },
    {
      "cell_type":"code",
      "source":[
        "# Data types\n",
        "for col in df.columns:\n",
        "    print(col, np.dtype(df[col]))"
      ],
      "execution_count":42,
      "outputs":[
        {
          "name":"stdout",
          "text":[
            "age int64\n",
            "sex int64\n",
            "cp int64\n",
            "trestbps int64\n",
            "chol int64\n",
            "fbs int64\n",
            "restecg int64\n",
            "thalach int64\n",
            "exang int64\n",
            "oldpeak float64\n",
            "slope int64\n",
            "ca int64\n",
            "thal int64\n",
            "target int64\n"
          ],
          "output_type":"stream"
        }
      ],
      "metadata":{
        
      }
    },
    {
      "cell_type":"markdown",
      "source":[
        "# Explore data"
      ],
      "metadata":{
        
      }
    },
    {
      "cell_type":"markdown",
      "source":[
        "### Features histograms or KDEs "
      ],
      "metadata":{
        
      }
    },
    {
      "cell_type":"code",
      "source":[
        "for feature in df.columns:\n",
        "    if feature == 'target':\n",
        "        continue\n",
        "    plt.figure(figsize=(8,6))\n",
        "    if df[feature].dtype == 'float':\n",
        "        sns.kdeplot(data=df[feature], shade=True)\n",
        "    elif df[feature].dtype == 'int':\n",
        "        sns.histplot(data=df[feature], kde=True)\n",
        "    #sns.histplot(data=df[feature], kde=True)"
      ],
      "execution_count":77,
      "outputs":[
        {
          "data":{
            "image\/png":"[encoded data removed]"
          },
          "metadata":{
            "image\/png":{
              "width":0,
              "height":0
            }
          },
          "output_type":"display_data"
        }
      ],
      "metadata":{
        
      }
    },
    {
      "cell_type":"markdown",
      "source":[
        "# Scaling"
      ],
      "metadata":{
        
      }
    },
    {
      "cell_type":"code",
      "source":[
        "from sklearn.preprocessing import StandardScaler"
      ],
      "execution_count":6,
      "outputs":[
        
      ],
      "metadata":{
        
      }
    },
    {
      "cell_type":"code",
      "source":[
        "scaler = StandardScaler()"
      ],
      "execution_count":7,
      "outputs":[
        
      ],
      "metadata":{
        
      }
    },
    {
      "cell_type":"code",
      "source":[
        "scaled_df = pd.DataFrame(scaler.fit_transform(df), columns=df.columns)\n",
        "scaled_df.target = df.target"
      ],
      "execution_count":78,
      "outputs":[
        
      ],
      "metadata":{
        
      }
    },
    {
      "cell_type":"code",
      "source":[
        "scaled_df.head()"
      ],
      "execution_count":52,
      "outputs":[
        {
          "data":{
            "text\/html":[
              "<div>\n",
              "<style scoped>\n",
              "    .dataframe tbody tr th:only-of-type {\n",
              "        vertical-align: middle;\n",
              "    }\n",
              "\n",
              "    .dataframe tbody tr th {\n",
              "        vertical-align: top;\n",
              "    }\n",
              "\n",
              "    .dataframe thead th {\n",
              "        text-align: right;\n",
              "    }\n",
              "<\/style>\n",
              "<table border=\"1\" class=\"dataframe\">\n",
              "  <thead>\n",
              "    <tr style=\"text-align: right;\">\n",
              "      <th><\/th>\n",
              "      <th>age<\/th>\n",
              "      <th>sex<\/th>\n",
              "      <th>cp<\/th>\n",
              "      <th>trestbps<\/th>\n",
              "      <th>chol<\/th>\n",
              "      <th>fbs<\/th>\n",
              "      <th>restecg<\/th>\n",
              "      <th>thalach<\/th>\n",
              "      <th>exang<\/th>\n",
              "      <th>oldpeak<\/th>\n",
              "      <th>slope<\/th>\n",
              "      <th>ca<\/th>\n",
              "      <th>thal<\/th>\n",
              "      <th>target<\/th>\n",
              "    <\/tr>\n",
              "  <\/thead>\n",
              "  <tbody>\n",
              "    <tr>\n",
              "      <th>0<\/th>\n",
              "      <td>0.952197<\/td>\n",
              "      <td>0.681005<\/td>\n",
              "      <td>1.973123<\/td>\n",
              "      <td>0.763956<\/td>\n",
              "      <td>-0.256334<\/td>\n",
              "      <td>2.394438<\/td>\n",
              "      <td>-1.005832<\/td>\n",
              "      <td>0.015443<\/td>\n",
              "      <td>-0.696631<\/td>\n",
              "      <td>1.087338<\/td>\n",
              "      <td>-2.274579<\/td>\n",
              "      <td>-0.714429<\/td>\n",
              "      <td>-2.148873<\/td>\n",
              "      <td>1<\/td>\n",
              "    <\/tr>\n",
              "    <tr>\n",
              "      <th>1<\/th>\n",
              "      <td>-1.915313<\/td>\n",
              "      <td>0.681005<\/td>\n",
              "      <td>1.002577<\/td>\n",
              "      <td>-0.092738<\/td>\n",
              "      <td>0.072199<\/td>\n",
              "      <td>-0.417635<\/td>\n",
              "      <td>0.898962<\/td>\n",
              "      <td>1.633471<\/td>\n",
              "      <td>-0.696631<\/td>\n",
              "      <td>2.122573<\/td>\n",
              "      <td>-2.274579<\/td>\n",
              "      <td>-0.714429<\/td>\n",
              "      <td>-0.512922<\/td>\n",
              "      <td>1<\/td>\n",
              "    <\/tr>\n",
              "    <tr>\n",
              "      <th>2<\/th>\n",
              "      <td>-1.474158<\/td>\n",
              "      <td>-1.468418<\/td>\n",
              "      <td>0.032031<\/td>\n",
              "      <td>-0.092738<\/td>\n",
              "      <td>-0.816773<\/td>\n",
              "      <td>-0.417635<\/td>\n",
              "      <td>-1.005832<\/td>\n",
              "      <td>0.977514<\/td>\n",
              "      <td>-0.696631<\/td>\n",
              "      <td>0.310912<\/td>\n",
              "      <td>0.976352<\/td>\n",
              "      <td>-0.714429<\/td>\n",
              "      <td>-0.512922<\/td>\n",
              "      <td>1<\/td>\n",
              "    <\/tr>\n",
              "    <tr>\n",
              "      <th>3<\/th>\n",
              "      <td>0.180175<\/td>\n",
              "      <td>0.681005<\/td>\n",
              "      <td>0.032031<\/td>\n",
              "      <td>-0.663867<\/td>\n",
              "      <td>-0.198357<\/td>\n",
              "      <td>-0.417635<\/td>\n",
              "      <td>0.898962<\/td>\n",
              "      <td>1.239897<\/td>\n",
              "      <td>-0.696631<\/td>\n",
              "      <td>-0.206705<\/td>\n",
              "      <td>0.976352<\/td>\n",
              "      <td>-0.714429<\/td>\n",
              "      <td>-0.512922<\/td>\n",
              "      <td>1<\/td>\n",
              "    <\/tr>\n",
              "    <tr>\n",
              "      <th>4<\/th>\n",
              "      <td>0.290464<\/td>\n",
              "      <td>-1.468418<\/td>\n",
              "      <td>-0.938515<\/td>\n",
              "      <td>-0.663867<\/td>\n",
              "      <td>2.082050<\/td>\n",
              "      <td>-0.417635<\/td>\n",
              "      <td>0.898962<\/td>\n",
              "      <td>0.583939<\/td>\n",
              "      <td>1.435481<\/td>\n",
              "      <td>-0.379244<\/td>\n",
              "      <td>0.976352<\/td>\n",
              "      <td>-0.714429<\/td>\n",
              "      <td>-0.512922<\/td>\n",
              "      <td>1<\/td>\n",
              "    <\/tr>\n",
              "  <\/tbody>\n",
              "<\/table>\n",
              "<\/div>"
            ]
          },
          "metadata":{
            
          },
          "output_type":"display_data"
        }
      ],
      "metadata":{
        
      }
    },
    {
      "cell_type":"markdown",
      "source":[
        "# Target-based compare of features"
      ],
      "metadata":{
        
      }
    },
    {
      "cell_type":"code",
      "source":[
        "for feature in scaled_df.columns:\n",
        "    if feature == 'target':\n",
        "        continue\n",
        "    plt.figure(figsize=(8,6))\n",
        "    sns.kdeplot(data=scaled_df[scaled_df.target == 1.0][feature], label=\"Sick\", shade=True)\n",
        "    sns.kdeplot(data=scaled_df[scaled_df.target == 0.0][feature], label=\"Healthy\", shade=True)\n",
        "    # Force legend to appear\n",
        "    plt.legend()\n",
        "    # Add title\n",
        "    plt.title(f\"Distribution of {feature} by Sick\/Healthy\")\n",
        "\n",
        "    "
      ],
      "execution_count":62,
      "outputs":[
        {
          "data":{
            "image\/png":"[encoded data removed]"
          },
          "metadata":{
            "image\/png":{
              "width":0,
              "height":0
            }
          },
          "output_type":"display_data"
        }
      ],
      "metadata":{
        
      }
    }
  ],
  "metadata":{
    
  },
  "nbformat":4,
  "nbformat_minor":0
}